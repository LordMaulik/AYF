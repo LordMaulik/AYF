{
  "nbformat": 4,
  "nbformat_minor": 0,
  "metadata": {
    "colab": {
      "provenance": []
    },
    "kernelspec": {
      "name": "python3",
      "display_name": "Python 3"
    },
    "language_info": {
      "name": "python"
    }
  },
  "cells": [
    {
      "cell_type": "code",
      "execution_count": null,
      "metadata": {
        "id": "MK_nEmc_Czbm"
      },
      "outputs": [],
      "source": [
        "import os\n",
        "import pandas as pd\n",
        "import transformers as tr\n",
        "from datasets import load_dataset\n"
      ]
    },
    {
      "cell_type": "code",
      "source": [
        "os.environ[\"HUGGINGFACEHUB_API_TOKEN\"] = \"Fill\""
      ],
      "metadata": {
        "id": "7svihdONEa8I"
      },
      "execution_count": null,
      "outputs": []
    },
    {
      "cell_type": "code",
      "source": [
        "!pip install --force-reinstall pydantic==1.10.6"
      ],
      "metadata": {
        "id": "W2Kyk-fIEcMN"
      },
      "execution_count": null,
      "outputs": []
    },
    {
      "cell_type": "code",
      "source": [
        "pd.set_option('display.max_column', None)\n",
        "pd.set_option('display.max_rows', None)\n",
        "pd.set_option('display.max_seq_items', None)\n",
        "pd.set_option('display.max_colwidth', 500)\n",
        "pd.set_option('expand_frame_repr', True)"
      ],
      "metadata": {
        "id": "PTX5oaRbEeRU"
      },
      "execution_count": null,
      "outputs": []
    },
    {
      "cell_type": "code",
      "source": [
        "import tempfile\n",
        "tmpdir = tempfile.TemporaryDirectory()\n",
        "local_training_root = tmpdir.name\n"
      ],
      "metadata": {
        "id": "e-ViD6JeEkCS"
      },
      "execution_count": null,
      "outputs": []
    },
    {
      "cell_type": "code",
      "source": [
        "os.environ[\"MASTER_ADDR\"] = \"localhost\"\n",
        "os.environ[\"MASTER_PORT\"] = \"9994\"\n",
        "os.environ[\"RANK\"] = \"0\"\n",
        "os.environ[\"LOCAL_RANK\"] = \"0\"\n",
        "os.environ[\"WORLD_SIZE\"] = \"1\"\n"
      ],
      "metadata": {
        "id": "f3wRKfu4Elxz"
      },
      "execution_count": null,
      "outputs": []
    },
    {
      "cell_type": "code",
      "source": [
        "imdb_ds = load_dataset(\"data.jsonl\")"
      ],
      "metadata": {
        "id": "5Jz5G80cEnWx"
      },
      "execution_count": null,
      "outputs": []
    },
    {
      "cell_type": "code",
      "source": [
        "model_name = \"google/gemma-7b\""
      ],
      "metadata": {
        "id": "AyCdJrB6EoFp"
      },
      "execution_count": null,
      "outputs": []
    },
    {
      "cell_type": "code",
      "source": [
        "tokenizer = tr.AutoTokenizer.from_pretrained(model_checkpoint, cache_dir=cache_dir)"
      ],
      "metadata": {
        "id": "7y3fFCIAEpZr"
      },
      "execution_count": null,
      "outputs": []
    },
    {
      "cell_type": "code",
      "source": [
        "import torch\n",
        "\n",
        "def to_tokens(tokenizer, label_map):\n",
        "    def apply(x):\n",
        "        target_labels = [label_map[y] for y in x[\"label\"]]\n",
        "        token_res = tokenizer(\n",
        "            x[\"text\"],\n",
        "            text_target=target_labels,\n",
        "            return_tensors=\"pt\",\n",
        "            truncation=True,\n",
        "            padding=True,\n",
        "        )\n",
        "        # Convert tensors to lists or numpy arrays\n",
        "        for key, value in token_res.items():\n",
        "            if isinstance(value, torch.Tensor):\n",
        "                token_res[key] = value.tolist()\n",
        "        return token_res\n",
        "    return apply\n",
        "\n",
        "# Create function to convert IMDb dataset to tokens\n",
        "imdb_to_tokens = to_tokens(tokenizer, imdb_label_lookup)\n",
        "\n",
        "# Tokenize the IMDb dataset\n",
        "tokenized_dataset = imdb_ds.map(\n",
        "    imdb_to_tokens,\n",
        "    batched=True,  # Expect the function to return a dictionary of types like (<class 'list'>, <class 'numpy.ndarray'>).\n",
        "    remove_columns=[\"text\", \"label\"]\n",
        ")\n",
        "\n",
        "def test_tokenized_dataset(tokenized_dataset, num_samples=1):\n",
        "    # Print the first few samples from the tokenized dataset\n",
        "    for i in range(num_samples):\n",
        "        sample = tokenized_dataset[i]\n",
        "        print(f\"Sample {i + 1}:\")\n",
        "        print(\"Input IDs:\", sample[\"input_ids\"])\n",
        "        print(\"Attention Mask:\", sample[\"attention_mask\"])\n",
        "        print(\"Labels:\", sample[\"labels\"])\n",
        "        print(\"=\" * 50)\n",
        "\n",
        "# Test the tokenized dataset\n",
        "test_tokenized_dataset(tokenized_dataset['train'])"
      ],
      "metadata": {
        "id": "iQ9o3oc7DbpQ"
      },
      "execution_count": null,
      "outputs": []
    },
    {
      "cell_type": "code",
      "source": [
        "# Define Zero configuration for optimization\n",
        "zero_config = {\n",
        "    \"zero_optimization\": {\n",
        "        \"stage\": 2,\n",
        "        \"offload_optimizer\": {\"device\": \"cpu\", \"pin_memory\": True},\n",
        "        \"allgather_partitions\": True,\n",
        "        \"allgather_bucket_size\": 5e8,\n",
        "        \"overlap_comm\": True,\n",
        "        \"reduce_scatter\": True,\n",
        "        \"reduce_bucket_size\": 5e8,\n",
        "        \"contiguous_gradients\": True,\n",
        "    },\n",
        "    \"optimizer\": {\n",
        "        \"type\": \"AdamW\",\n",
        "        \"params\": {\n",
        "            \"lr\": \"auto\",\n",
        "            \"betas\": \"auto\",\n",
        "            \"eps\": \"auto\",\n",
        "            \"weight_decay\": \"auto\",\n",
        "            \"torch_adam\": True,\n",
        "        },\n",
        "    },\n",
        "    \"scheduler\": {\n",
        "        \"type\": \"WarmupLR\",\n",
        "        \"params\": {\n",
        "            \"warmup_min_lr\": \"auto\",\n",
        "            \"warmup_max_lr\": \"auto\",\n",
        "            \"warmup_num_steps\": \"auto\"\n",
        "        }\n",
        "    },\n",
        "    \"train_batch_size\": \"auto\",\n",
        "    \"train_micro_batch_size_per_gpu\": \"auto\"\n",
        "}\n",
        "\n",
        "# Specify the model checkpoint to use\n",
        "model_checkpoint = \"base\"\n",
        "\n",
        "tokenizer = tr.AutoTokenizer.from_pretrained(\n",
        "    model_checkpoint, cache_dir=DA.paths.datasets\n",
        ")\n",
        "\n",
        "# Convert IMDb dataset to tokens\n",
        "imdb_to_tokens = to_tokens(tokenizer, imdb_label_lookup)\n",
        "tokenized_dataset = imdb_ds.map(\n",
        "    imdb_to_tokens, batched=True,\n",
        ")\n",
        "\n",
        "# Load the model for sequence-to-sequence learning\n",
        "model = tr.AutoModelForSeq2SeqLM.from_pretrained(\n",
        "    model_checkpoint, cache_dir=DA.paths.datasets\n",
        ")\n"
      ],
      "metadata": {
        "id": "PdaaM_QrDiF0"
      },
      "execution_count": null,
      "outputs": []
    },
    {
      "cell_type": "code",
      "source": [
        "# Load the pre-trained model\n",
        "model = tr.AutoModelForSeq2SeqLM.from_pretrained(\n",
        "    model_checkpoint,\n",
        "    cache_dir=cache_dir\n",
        ")\n",
        "\n",
        "# Define checkpoint name and location\n",
        "checkpoint_name = \"test\"\n",
        "checkpoint_location = os.path.join(local_training_root, checkpoint_name)\n",
        "\n",
        "# Define training arguments\n",
        "training_args = tr.TrainingArguments(\n",
        "    checkpoint_location,\n",
        "    num_train_epochs=3,\n",
        "    per_device_train_batch_size=8,\n",
        "    deepspeed=zero_config,\n",
        "    report_to=[\"tensorboard\"],\n",
        ")\n"
      ],
      "metadata": {
        "id": "sFiIkC48DkFx"
      },
      "execution_count": null,
      "outputs": []
    },
    {
      "cell_type": "code",
      "source": [
        "# Define data collator\n",
        "data_collator = tr.DataCollatorWithPadding(tokenizer=tokenizer)\n",
        "\n",
        "# Create Trainer instance\n",
        "trainer = tr.Trainer(\n",
        "    model,\n",
        "    training_args,\n",
        "    train_dataset=tokenized_dataset[\"train\"],\n",
        "    eval_dataset=tokenized_dataset[\"test\"],\n",
        "    tokenizer=tokenizer,\n",
        "    data_collator=data_collator,\n",
        ")\n",
        "\n",
        "# Define directory for TensorBoard display\n",
        "tensorboard_display_dir = f\"{checkpoint_location}/runs\"\n"
      ],
      "metadata": {
        "id": "NTLfMmB8F2jD"
      },
      "execution_count": null,
      "outputs": []
    },
    {
      "cell_type": "code",
      "source": [
        "# Load TensorBoard extension and display logs\n",
        "%load_ext tensorboard\n",
        "%tensorboard --logdir '{tensorboard_display_dir}'\n"
      ],
      "metadata": {
        "id": "_JTf8ssLG1Uo"
      },
      "execution_count": null,
      "outputs": []
    },
    {
      "cell_type": "code",
      "source": [
        "# Train the model\n",
        "trainer.train()\n",
        "\n",
        "# Save trained model to local checkpoint\n",
        "trainer.save_model()\n",
        "trainer.save_state()\n",
        "\n",
        "# Persist the fine-tuned model to a directory\n",
        "final_model_path = f\"{cache_dir}/llm04_fine_tuning/{checkpoint_name}\"\n",
        "trainer.save_model(output_dir=final_model_path)\n"
      ],
      "metadata": {
        "id": "rUBQ4op5GzEQ"
      },
      "execution_count": null,
      "outputs": []
    },
    {
      "cell_type": "code",
      "source": [
        "# Load the fine-tuned model\n",
        "fine_tuned_model = tr.AutoModelForSeq2SeqLM.from_pretrained(final_model_path)\n",
        "\n",
        "# Generate predictions\n",
        "inputs = tokenizer(\n",
        "    reviews,\n",
        "    return_tensors=\"pt\",\n",
        "    truncation=True,\n",
        "    padding=True\n",
        ")\n",
        "\n",
        "pred = fine_tuned_model.generate(\n",
        "    input_ids=inputs[\"input_ids\"],\n",
        "    attention_mask=inputs[\"attention_mask\"]\n",
        ")\n",
        "\n",
        "pred\n"
      ],
      "metadata": {
        "id": "tra6zjdeFzjI"
      },
      "execution_count": null,
      "outputs": []
    }
  ]
}